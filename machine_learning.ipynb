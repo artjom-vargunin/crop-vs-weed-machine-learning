{
 "cells": [
  {
   "cell_type": "code",
   "execution_count": 1,
   "metadata": {
    "collapsed": true
   },
   "outputs": [],
   "source": [
    "import matplotlib.pyplot as plt\n",
    "import numpy as np\n",
    "import pandas as pd\n",
    "import scipy.stats\n",
    "from sklearn.ensemble import RandomForestClassifier, GradientBoostingClassifier\n",
    "from sklearn.tree import DecisionTreeClassifier\n",
    "from sklearn.neighbors import KNeighborsClassifier\n",
    "from sklearn.linear_model import LogisticRegression\n",
    "from sklearn.neural_network import MLPClassifier\n",
    "from sklearn.model_selection import train_test_split\n",
    "from sklearn.svm import SVC\n",
    "from sklearn.metrics import classification_report"
   ]
  },
  {
   "cell_type": "markdown",
   "metadata": {
    "collapsed": true
   },
   "source": [
    "### Data extracted\n",
    "We consider weed data extracted from the field at 2021-05-31. Note that in early season MEXG index works well, however, this is not the case in mid or late season."
   ]
  },
  {
   "cell_type": "code",
   "execution_count": 2,
   "metadata": {},
   "outputs": [
    {
     "data": {
      "text/html": [
       "<div>\n",
       "<style scoped>\n",
       "    .dataframe tbody tr th:only-of-type {\n",
       "        vertical-align: middle;\n",
       "    }\n",
       "\n",
       "    .dataframe tbody tr th {\n",
       "        vertical-align: top;\n",
       "    }\n",
       "\n",
       "    .dataframe thead th {\n",
       "        text-align: right;\n",
       "    }\n",
       "</style>\n",
       "<table border=\"1\" class=\"dataframe\">\n",
       "  <thead>\n",
       "    <tr style=\"text-align: right;\">\n",
       "      <th></th>\n",
       "      <th>area</th>\n",
       "      <th>perimeter</th>\n",
       "      <th>inertia11</th>\n",
       "      <th>inertia12</th>\n",
       "      <th>inertia21</th>\n",
       "      <th>inertia22</th>\n",
       "      <th>x</th>\n",
       "      <th>y</th>\n",
       "      <th>density_around</th>\n",
       "      <th>area_around</th>\n",
       "      <th>N</th>\n",
       "      <th>NW</th>\n",
       "      <th>img</th>\n",
       "    </tr>\n",
       "  </thead>\n",
       "  <tbody>\n",
       "    <tr>\n",
       "      <th>15624</th>\n",
       "      <td>6.0</td>\n",
       "      <td>6.414214</td>\n",
       "      <td>0.916667</td>\n",
       "      <td>0.250000</td>\n",
       "      <td>0.250000</td>\n",
       "      <td>0.250000</td>\n",
       "      <td>427.500000</td>\n",
       "      <td>13.500000</td>\n",
       "      <td>14.0</td>\n",
       "      <td>0.0360</td>\n",
       "      <td>150.0</td>\n",
       "      <td>252.0</td>\n",
       "      <td>49.0</td>\n",
       "    </tr>\n",
       "    <tr>\n",
       "      <th>2396</th>\n",
       "      <td>5.0</td>\n",
       "      <td>5.207107</td>\n",
       "      <td>0.560000</td>\n",
       "      <td>0.120000</td>\n",
       "      <td>0.120000</td>\n",
       "      <td>0.240000</td>\n",
       "      <td>466.800000</td>\n",
       "      <td>35.400000</td>\n",
       "      <td>20.0</td>\n",
       "      <td>0.0616</td>\n",
       "      <td>150.0</td>\n",
       "      <td>63.0</td>\n",
       "      <td>8.0</td>\n",
       "    </tr>\n",
       "    <tr>\n",
       "      <th>15488</th>\n",
       "      <td>4.0</td>\n",
       "      <td>4.000000</td>\n",
       "      <td>0.250000</td>\n",
       "      <td>-0.000000</td>\n",
       "      <td>-0.000000</td>\n",
       "      <td>0.250000</td>\n",
       "      <td>106.500000</td>\n",
       "      <td>68.500000</td>\n",
       "      <td>23.0</td>\n",
       "      <td>0.0752</td>\n",
       "      <td>150.0</td>\n",
       "      <td>252.0</td>\n",
       "      <td>48.0</td>\n",
       "    </tr>\n",
       "    <tr>\n",
       "      <th>5437</th>\n",
       "      <td>14.0</td>\n",
       "      <td>12.035534</td>\n",
       "      <td>1.678571</td>\n",
       "      <td>-0.821429</td>\n",
       "      <td>-0.821429</td>\n",
       "      <td>1.352041</td>\n",
       "      <td>366.500000</td>\n",
       "      <td>22.928571</td>\n",
       "      <td>18.0</td>\n",
       "      <td>0.0752</td>\n",
       "      <td>150.0</td>\n",
       "      <td>79.0</td>\n",
       "      <td>17.0</td>\n",
       "    </tr>\n",
       "    <tr>\n",
       "      <th>6800</th>\n",
       "      <td>2.0</td>\n",
       "      <td>0.000000</td>\n",
       "      <td>0.000000</td>\n",
       "      <td>-0.000000</td>\n",
       "      <td>-0.000000</td>\n",
       "      <td>0.250000</td>\n",
       "      <td>149.000000</td>\n",
       "      <td>46.500000</td>\n",
       "      <td>15.0</td>\n",
       "      <td>0.0236</td>\n",
       "      <td>75.0</td>\n",
       "      <td>105.0</td>\n",
       "      <td>22.0</td>\n",
       "    </tr>\n",
       "    <tr>\n",
       "      <th>11672</th>\n",
       "      <td>6.0</td>\n",
       "      <td>6.242641</td>\n",
       "      <td>0.472222</td>\n",
       "      <td>0.138889</td>\n",
       "      <td>0.138889</td>\n",
       "      <td>0.472222</td>\n",
       "      <td>467.166667</td>\n",
       "      <td>31.833333</td>\n",
       "      <td>16.0</td>\n",
       "      <td>0.0372</td>\n",
       "      <td>150.0</td>\n",
       "      <td>154.0</td>\n",
       "      <td>37.0</td>\n",
       "    </tr>\n",
       "    <tr>\n",
       "      <th>4103</th>\n",
       "      <td>6.0</td>\n",
       "      <td>6.207107</td>\n",
       "      <td>0.666667</td>\n",
       "      <td>0.333333</td>\n",
       "      <td>0.333333</td>\n",
       "      <td>0.472222</td>\n",
       "      <td>377.000000</td>\n",
       "      <td>11.833333</td>\n",
       "      <td>19.0</td>\n",
       "      <td>0.0536</td>\n",
       "      <td>150.0</td>\n",
       "      <td>64.0</td>\n",
       "      <td>13.0</td>\n",
       "    </tr>\n",
       "    <tr>\n",
       "      <th>5544</th>\n",
       "      <td>3.0</td>\n",
       "      <td>3.414214</td>\n",
       "      <td>0.222222</td>\n",
       "      <td>0.111111</td>\n",
       "      <td>0.111111</td>\n",
       "      <td>0.222222</td>\n",
       "      <td>219.333333</td>\n",
       "      <td>44.333333</td>\n",
       "      <td>14.0</td>\n",
       "      <td>0.0452</td>\n",
       "      <td>150.0</td>\n",
       "      <td>79.0</td>\n",
       "      <td>17.0</td>\n",
       "    </tr>\n",
       "    <tr>\n",
       "      <th>18855</th>\n",
       "      <td>12.0</td>\n",
       "      <td>9.621320</td>\n",
       "      <td>1.743056</td>\n",
       "      <td>0.104167</td>\n",
       "      <td>0.104167</td>\n",
       "      <td>0.520833</td>\n",
       "      <td>348.916667</td>\n",
       "      <td>39.750000</td>\n",
       "      <td>17.0</td>\n",
       "      <td>0.0420</td>\n",
       "      <td>75.0</td>\n",
       "      <td>265.0</td>\n",
       "      <td>58.0</td>\n",
       "    </tr>\n",
       "    <tr>\n",
       "      <th>9145</th>\n",
       "      <td>4.0</td>\n",
       "      <td>4.000000</td>\n",
       "      <td>0.250000</td>\n",
       "      <td>-0.000000</td>\n",
       "      <td>-0.000000</td>\n",
       "      <td>0.250000</td>\n",
       "      <td>76.500000</td>\n",
       "      <td>84.500000</td>\n",
       "      <td>15.0</td>\n",
       "      <td>0.0516</td>\n",
       "      <td>150.0</td>\n",
       "      <td>134.0</td>\n",
       "      <td>29.0</td>\n",
       "    </tr>\n",
       "  </tbody>\n",
       "</table>\n",
       "</div>"
      ],
      "text/plain": [
       "       area  perimeter  inertia11  inertia12  inertia21  inertia22  \\\n",
       "15624   6.0   6.414214   0.916667   0.250000   0.250000   0.250000   \n",
       "2396    5.0   5.207107   0.560000   0.120000   0.120000   0.240000   \n",
       "15488   4.0   4.000000   0.250000  -0.000000  -0.000000   0.250000   \n",
       "5437   14.0  12.035534   1.678571  -0.821429  -0.821429   1.352041   \n",
       "6800    2.0   0.000000   0.000000  -0.000000  -0.000000   0.250000   \n",
       "11672   6.0   6.242641   0.472222   0.138889   0.138889   0.472222   \n",
       "4103    6.0   6.207107   0.666667   0.333333   0.333333   0.472222   \n",
       "5544    3.0   3.414214   0.222222   0.111111   0.111111   0.222222   \n",
       "18855  12.0   9.621320   1.743056   0.104167   0.104167   0.520833   \n",
       "9145    4.0   4.000000   0.250000  -0.000000  -0.000000   0.250000   \n",
       "\n",
       "                x          y  density_around  area_around      N     NW   img  \n",
       "15624  427.500000  13.500000            14.0       0.0360  150.0  252.0  49.0  \n",
       "2396   466.800000  35.400000            20.0       0.0616  150.0   63.0   8.0  \n",
       "15488  106.500000  68.500000            23.0       0.0752  150.0  252.0  48.0  \n",
       "5437   366.500000  22.928571            18.0       0.0752  150.0   79.0  17.0  \n",
       "6800   149.000000  46.500000            15.0       0.0236   75.0  105.0  22.0  \n",
       "11672  467.166667  31.833333            16.0       0.0372  150.0  154.0  37.0  \n",
       "4103   377.000000  11.833333            19.0       0.0536  150.0   64.0  13.0  \n",
       "5544   219.333333  44.333333            14.0       0.0452  150.0   79.0  17.0  \n",
       "18855  348.916667  39.750000            17.0       0.0420   75.0  265.0  58.0  \n",
       "9145    76.500000  84.500000            15.0       0.0516  150.0  134.0  29.0  "
      ]
     },
     "execution_count": 2,
     "metadata": {},
     "output_type": "execute_result"
    }
   ],
   "source": [
    "data=pd.read_csv('data.csv')\n",
    "data.sample(10)"
   ]
  },
  {
   "cell_type": "code",
   "execution_count": 3,
   "metadata": {},
   "outputs": [
    {
     "data": {
      "text/plain": [
       "(20254, 13)"
      ]
     },
     "execution_count": 3,
     "metadata": {},
     "output_type": "execute_result"
    }
   ],
   "source": [
    "data.shape"
   ]
  },
  {
   "cell_type": "markdown",
   "metadata": {
    "collapsed": true
   },
   "source": [
    "This means that we have 20254 weed regions on the field."
   ]
  },
  {
   "cell_type": "markdown",
   "metadata": {},
   "source": [
    "### Remove inconsistent data"
   ]
  },
  {
   "cell_type": "code",
   "execution_count": 4,
   "metadata": {},
   "outputs": [
    {
     "name": "stdout",
     "output_type": "stream",
     "text": [
      "6619    21.0\n",
      "8766    28.0\n",
      "Name: img, dtype: float64\n"
     ]
    }
   ],
   "source": [
    "indx=data['area'] >150\n",
    "print(data.loc[indx]['img'])"
   ]
  },
  {
   "cell_type": "code",
   "execution_count": 5,
   "metadata": {},
   "outputs": [
    {
     "data": {
      "text/html": [
       "<div>\n",
       "<style scoped>\n",
       "    .dataframe tbody tr th:only-of-type {\n",
       "        vertical-align: middle;\n",
       "    }\n",
       "\n",
       "    .dataframe tbody tr th {\n",
       "        vertical-align: top;\n",
       "    }\n",
       "\n",
       "    .dataframe thead th {\n",
       "        text-align: right;\n",
       "    }\n",
       "</style>\n",
       "<table border=\"1\" class=\"dataframe\">\n",
       "  <thead>\n",
       "    <tr style=\"text-align: right;\">\n",
       "      <th></th>\n",
       "      <th>area</th>\n",
       "      <th>perimeter</th>\n",
       "      <th>inertia11</th>\n",
       "      <th>inertia12</th>\n",
       "      <th>inertia21</th>\n",
       "      <th>inertia22</th>\n",
       "      <th>x</th>\n",
       "      <th>y</th>\n",
       "      <th>density_around</th>\n",
       "      <th>area_around</th>\n",
       "      <th>N</th>\n",
       "      <th>NW</th>\n",
       "      <th>img</th>\n",
       "    </tr>\n",
       "  </thead>\n",
       "  <tbody>\n",
       "    <tr>\n",
       "      <th>6619</th>\n",
       "      <td>55688.0</td>\n",
       "      <td>1716.760497</td>\n",
       "      <td>35189.956716</td>\n",
       "      <td>25.490383</td>\n",
       "      <td>25.490383</td>\n",
       "      <td>612.381515</td>\n",
       "      <td>325.049131</td>\n",
       "      <td>42.597759</td>\n",
       "      <td>1.0</td>\n",
       "      <td>22.2752</td>\n",
       "      <td>150.0</td>\n",
       "      <td>105.0</td>\n",
       "      <td>21.0</td>\n",
       "    </tr>\n",
       "    <tr>\n",
       "      <th>8766</th>\n",
       "      <td>55844.0</td>\n",
       "      <td>1598.172619</td>\n",
       "      <td>35215.558365</td>\n",
       "      <td>4.160765</td>\n",
       "      <td>4.160765</td>\n",
       "      <td>615.560037</td>\n",
       "      <td>324.563570</td>\n",
       "      <td>42.513591</td>\n",
       "      <td>1.0</td>\n",
       "      <td>22.3376</td>\n",
       "      <td>150.0</td>\n",
       "      <td>134.0</td>\n",
       "      <td>28.0</td>\n",
       "    </tr>\n",
       "  </tbody>\n",
       "</table>\n",
       "</div>"
      ],
      "text/plain": [
       "         area    perimeter     inertia11  inertia12  inertia21   inertia22  \\\n",
       "6619  55688.0  1716.760497  35189.956716  25.490383  25.490383  612.381515   \n",
       "8766  55844.0  1598.172619  35215.558365   4.160765   4.160765  615.560037   \n",
       "\n",
       "               x          y  density_around  area_around      N     NW   img  \n",
       "6619  325.049131  42.597759             1.0      22.2752  150.0  105.0  21.0  \n",
       "8766  324.563570  42.513591             1.0      22.3376  150.0  134.0  28.0  "
      ]
     },
     "execution_count": 5,
     "metadata": {},
     "output_type": "execute_result"
    }
   ],
   "source": [
    "data.loc[indx]"
   ]
  },
  {
   "cell_type": "code",
   "execution_count": 6,
   "metadata": {
    "collapsed": true
   },
   "outputs": [],
   "source": [
    "indx_outl=(data['img']==21)|(data['img']==28)\n",
    "data=data.loc[~indx_outl]"
   ]
  },
  {
   "cell_type": "markdown",
   "metadata": {
    "collapsed": true
   },
   "source": [
    "### Analysis"
   ]
  },
  {
   "cell_type": "markdown",
   "metadata": {},
   "source": [
    "It there statistical difference in weed amount in N75 and N150 beds? Not really... "
   ]
  },
  {
   "cell_type": "code",
   "execution_count": 7,
   "metadata": {},
   "outputs": [
    {
     "data": {
      "text/plain": [
       "Ttest_indResult(statistic=0.47598546733129354, pvalue=0.6358558090671917)"
      ]
     },
     "execution_count": 7,
     "metadata": {},
     "output_type": "execute_result"
    }
   ],
   "source": [
    "sample75=np.array(data.loc[data['N']==75].groupby('img').count()['x']).flatten()\n",
    "sample150=np.array(data.loc[data['N']==150].groupby('img').count()['x']).flatten()\n",
    "scipy.stats.ttest_ind(sample75, sample150, equal_var=False)"
   ]
  },
  {
   "cell_type": "code",
   "execution_count": 8,
   "metadata": {},
   "outputs": [
    {
     "data": {
      "image/png": "[encoded data removed]",
      "text/plain": [
       "<Figure size 432x288 with 1 Axes>"
      ]
     },
     "metadata": {
      "needs_background": "light"
     },
     "output_type": "display_data"
    },
    {
     "name": "stdout",
     "output_type": "stream",
     "text": [
      "mean=330.78125\n"
     ]
    }
   ],
   "source": [
    "plt.hist(sample75,bins=20)\n",
    "plt.xlim(200,600)\n",
    "plt.ylim(0,7)\n",
    "plt.show()\n",
    "print(f'mean={sample75.mean()}')"
   ]
  },
  {
   "cell_type": "code",
   "execution_count": 9,
   "metadata": {},
   "outputs": [
    {
     "data": {
      "image/png": "[encoded data removed]",
      "text/plain": [
       "<Figure size 432x288 with 1 Axes>"
      ]
     },
     "metadata": {
      "needs_background": "light"
     },
     "output_type": "display_data"
    },
    {
     "name": "stdout",
     "output_type": "stream",
     "text": [
      "mean=322.23333333333335\n"
     ]
    }
   ],
   "source": [
    "plt.hist(sample150,bins=20)\n",
    "plt.xlim(200,600)\n",
    "plt.ylim(0,7)\n",
    "plt.show()\n",
    "print(f'mean={sample150.mean()}')"
   ]
  },
  {
   "cell_type": "markdown",
   "metadata": {},
   "source": [
    "It there statistical difference in weed area in N75 and N150 beds?"
   ]
  },
  {
   "cell_type": "code",
   "execution_count": 10,
   "metadata": {},
   "outputs": [
    {
     "data": {
      "text/plain": [
       "Ttest_indResult(statistic=0.35188631551347155, pvalue=0.7261564136069957)"
      ]
     },
     "execution_count": 10,
     "metadata": {},
     "output_type": "execute_result"
    }
   ],
   "source": [
    "area75=np.array(data.loc[data['N']==75].groupby('img').sum()['area']).flatten()\n",
    "area150=np.array(data.loc[data['N']==150].groupby('img').sum()['area']).flatten()\n",
    "scipy.stats.ttest_ind(area75, area150, equal_var=True)"
   ]
  },
  {
   "cell_type": "code",
   "execution_count": 29,
   "metadata": {},
   "outputs": [
    {
     "data": {
      "image/png": "[encoded data removed]",
      "text/plain": [
       "<Figure size 432x288 with 1 Axes>"
      ]
     },
     "metadata": {
      "needs_background": "light"
     },
     "output_type": "display_data"
    },
    {
     "name": "stdout",
     "output_type": "stream",
     "text": [
      "mean=2355.0\n"
     ]
    }
   ],
   "source": [
    "plt.hist(area75,bins=20)\n",
    "plt.xlim(500,4700)\n",
    "plt.ylim(0,8)\n",
    "plt.show()\n",
    "print(f'mean={area75.mean()}')"
   ]
  },
  {
   "cell_type": "code",
   "execution_count": 30,
   "metadata": {},
   "outputs": [
    {
     "data": {
      "image/png": "[encoded data removed]",
      "text/plain": [
       "<Figure size 432x288 with 1 Axes>"
      ]
     },
     "metadata": {
      "needs_background": "light"
     },
     "output_type": "display_data"
    },
    {
     "name": "stdout",
     "output_type": "stream",
     "text": [
      "mean=2279.8\n"
     ]
    }
   ],
   "source": [
    "plt.hist(area150,bins=20)\n",
    "plt.xlim(500,4700)\n",
    "plt.ylim(0,8)\n",
    "plt.show()\n",
    "print(f'mean={area150.mean()}')"
   ]
  },
  {
   "cell_type": "markdown",
   "metadata": {},
   "source": [
    "Data needs more processing."
   ]
  },
  {
   "cell_type": "markdown",
   "metadata": {
    "collapsed": true
   },
   "source": [
    "### Some machine learning\n",
    "Can we still predict Nitrogen rate (N) from weed features extracted?"
   ]
  },
  {
   "cell_type": "markdown",
   "metadata": {},
   "source": [
    "First transform N=75;150 to categories 0;1"
   ]
  },
  {
   "cell_type": "code",
   "execution_count": 13,
   "metadata": {},
   "outputs": [],
   "source": [
    "features=['area','perimeter','inertia11','inertia12','inertia21','inertia22','density_around','area_around','NW']\n",
    "\n",
    "indx75=data['N']==75\n",
    "data75=data.loc[indx75][features]\n",
    "data75['category']=0\n",
    "\n",
    "indx150=data['N']==150\n",
    "data150=data.loc[indx150][features]\n",
    "data150['category']=1"
   ]
  },
  {
   "cell_type": "code",
   "execution_count": 14,
   "metadata": {},
   "outputs": [
    {
     "data": {
      "text/html": [
       "<div>\n",
       "<style scoped>\n",
       "    .dataframe tbody tr th:only-of-type {\n",
       "        vertical-align: middle;\n",
       "    }\n",
       "\n",
       "    .dataframe tbody tr th {\n",
       "        vertical-align: top;\n",
       "    }\n",
       "\n",
       "    .dataframe thead th {\n",
       "        text-align: right;\n",
       "    }\n",
       "</style>\n",
       "<table border=\"1\" class=\"dataframe\">\n",
       "  <thead>\n",
       "    <tr style=\"text-align: right;\">\n",
       "      <th></th>\n",
       "      <th>area</th>\n",
       "      <th>perimeter</th>\n",
       "      <th>inertia11</th>\n",
       "      <th>inertia12</th>\n",
       "      <th>inertia21</th>\n",
       "      <th>inertia22</th>\n",
       "      <th>density_around</th>\n",
       "      <th>area_around</th>\n",
       "      <th>NW</th>\n",
       "      <th>category</th>\n",
       "    </tr>\n",
       "  </thead>\n",
       "  <tbody>\n",
       "    <tr>\n",
       "      <th>19257</th>\n",
       "      <td>2.0</td>\n",
       "      <td>0.000000</td>\n",
       "      <td>0.250000</td>\n",
       "      <td>0.250000</td>\n",
       "      <td>0.250000</td>\n",
       "      <td>0.250000</td>\n",
       "      <td>31.0</td>\n",
       "      <td>0.0532</td>\n",
       "      <td>274.0</td>\n",
       "      <td>1</td>\n",
       "    </tr>\n",
       "    <tr>\n",
       "      <th>6623</th>\n",
       "      <td>7.0</td>\n",
       "      <td>6.828427</td>\n",
       "      <td>0.571429</td>\n",
       "      <td>0.285714</td>\n",
       "      <td>0.285714</td>\n",
       "      <td>0.571429</td>\n",
       "      <td>20.0</td>\n",
       "      <td>0.0876</td>\n",
       "      <td>105.0</td>\n",
       "      <td>0</td>\n",
       "    </tr>\n",
       "    <tr>\n",
       "      <th>5027</th>\n",
       "      <td>16.0</td>\n",
       "      <td>12.000000</td>\n",
       "      <td>1.250000</td>\n",
       "      <td>-0.000000</td>\n",
       "      <td>-0.000000</td>\n",
       "      <td>1.250000</td>\n",
       "      <td>18.0</td>\n",
       "      <td>0.0608</td>\n",
       "      <td>79.0</td>\n",
       "      <td>1</td>\n",
       "    </tr>\n",
       "    <tr>\n",
       "      <th>7389</th>\n",
       "      <td>2.0</td>\n",
       "      <td>0.000000</td>\n",
       "      <td>0.250000</td>\n",
       "      <td>0.250000</td>\n",
       "      <td>0.250000</td>\n",
       "      <td>0.250000</td>\n",
       "      <td>25.0</td>\n",
       "      <td>0.1004</td>\n",
       "      <td>121.0</td>\n",
       "      <td>1</td>\n",
       "    </tr>\n",
       "    <tr>\n",
       "      <th>16023</th>\n",
       "      <td>2.0</td>\n",
       "      <td>0.000000</td>\n",
       "      <td>0.000000</td>\n",
       "      <td>-0.000000</td>\n",
       "      <td>-0.000000</td>\n",
       "      <td>0.250000</td>\n",
       "      <td>26.0</td>\n",
       "      <td>0.0576</td>\n",
       "      <td>252.0</td>\n",
       "      <td>0</td>\n",
       "    </tr>\n",
       "    <tr>\n",
       "      <th>12134</th>\n",
       "      <td>4.0</td>\n",
       "      <td>4.621320</td>\n",
       "      <td>0.187500</td>\n",
       "      <td>-0.000000</td>\n",
       "      <td>-0.000000</td>\n",
       "      <td>0.500000</td>\n",
       "      <td>19.0</td>\n",
       "      <td>0.0552</td>\n",
       "      <td>154.0</td>\n",
       "      <td>0</td>\n",
       "    </tr>\n",
       "    <tr>\n",
       "      <th>16741</th>\n",
       "      <td>14.0</td>\n",
       "      <td>11.656854</td>\n",
       "      <td>1.107143</td>\n",
       "      <td>0.464286</td>\n",
       "      <td>0.464286</td>\n",
       "      <td>1.311224</td>\n",
       "      <td>19.0</td>\n",
       "      <td>0.0680</td>\n",
       "      <td>252.0</td>\n",
       "      <td>0</td>\n",
       "    </tr>\n",
       "    <tr>\n",
       "      <th>16692</th>\n",
       "      <td>11.0</td>\n",
       "      <td>9.656854</td>\n",
       "      <td>0.545455</td>\n",
       "      <td>-0.000000</td>\n",
       "      <td>-0.000000</td>\n",
       "      <td>1.272727</td>\n",
       "      <td>15.0</td>\n",
       "      <td>0.0772</td>\n",
       "      <td>252.0</td>\n",
       "      <td>0</td>\n",
       "    </tr>\n",
       "    <tr>\n",
       "      <th>12242</th>\n",
       "      <td>5.0</td>\n",
       "      <td>5.207107</td>\n",
       "      <td>0.560000</td>\n",
       "      <td>0.120000</td>\n",
       "      <td>0.120000</td>\n",
       "      <td>0.240000</td>\n",
       "      <td>28.0</td>\n",
       "      <td>0.0612</td>\n",
       "      <td>154.0</td>\n",
       "      <td>0</td>\n",
       "    </tr>\n",
       "    <tr>\n",
       "      <th>19077</th>\n",
       "      <td>2.0</td>\n",
       "      <td>0.000000</td>\n",
       "      <td>0.250000</td>\n",
       "      <td>-0.000000</td>\n",
       "      <td>-0.000000</td>\n",
       "      <td>0.000000</td>\n",
       "      <td>22.0</td>\n",
       "      <td>0.0408</td>\n",
       "      <td>265.0</td>\n",
       "      <td>0</td>\n",
       "    </tr>\n",
       "  </tbody>\n",
       "</table>\n",
       "</div>"
      ],
      "text/plain": [
       "       area  perimeter  inertia11  inertia12  inertia21  inertia22  \\\n",
       "19257   2.0   0.000000   0.250000   0.250000   0.250000   0.250000   \n",
       "6623    7.0   6.828427   0.571429   0.285714   0.285714   0.571429   \n",
       "5027   16.0  12.000000   1.250000  -0.000000  -0.000000   1.250000   \n",
       "7389    2.0   0.000000   0.250000   0.250000   0.250000   0.250000   \n",
       "16023   2.0   0.000000   0.000000  -0.000000  -0.000000   0.250000   \n",
       "12134   4.0   4.621320   0.187500  -0.000000  -0.000000   0.500000   \n",
       "16741  14.0  11.656854   1.107143   0.464286   0.464286   1.311224   \n",
       "16692  11.0   9.656854   0.545455  -0.000000  -0.000000   1.272727   \n",
       "12242   5.0   5.207107   0.560000   0.120000   0.120000   0.240000   \n",
       "19077   2.0   0.000000   0.250000  -0.000000  -0.000000   0.000000   \n",
       "\n",
       "       density_around  area_around     NW  category  \n",
       "19257            31.0       0.0532  274.0         1  \n",
       "6623             20.0       0.0876  105.0         0  \n",
       "5027             18.0       0.0608   79.0         1  \n",
       "7389             25.0       0.1004  121.0         1  \n",
       "16023            26.0       0.0576  252.0         0  \n",
       "12134            19.0       0.0552  154.0         0  \n",
       "16741            19.0       0.0680  252.0         0  \n",
       "16692            15.0       0.0772  252.0         0  \n",
       "12242            28.0       0.0612  154.0         0  \n",
       "19077            22.0       0.0408  265.0         0  "
      ]
     },
     "execution_count": 14,
     "metadata": {},
     "output_type": "execute_result"
    }
   ],
   "source": [
    "data=data75.append(data150)\n",
    "data.sample(10)"
   ]
  },
  {
   "cell_type": "code",
   "execution_count": 15,
   "metadata": {},
   "outputs": [],
   "source": [
    "data['category']=data['category'].astype('category')"
   ]
  },
  {
   "cell_type": "markdown",
   "metadata": {},
   "source": [
    "### Classifiers\n",
    "Lets train some model to predict N rate"
   ]
  },
  {
   "cell_type": "code",
   "execution_count": 16,
   "metadata": {},
   "outputs": [
    {
     "data": {
      "text/plain": [
       "array([7411, 6765], dtype=int32)"
      ]
     },
     "execution_count": 16,
     "metadata": {},
     "output_type": "execute_result"
    }
   ],
   "source": [
    "train, test = train_test_split(data, random_state = 111, test_size = 0.3) \n",
    "np.bincount(np.array(train['category']).flatten().astype('int32'))"
   ]
  },
  {
   "cell_type": "code",
   "execution_count": 17,
   "metadata": {},
   "outputs": [
    {
     "name": "stderr",
     "output_type": "stream",
     "text": [
      "C:\\Users\\artjom\\Miniconda3\\envs\\env36\\lib\\site-packages\\ipykernel_launcher.py:9: DataConversionWarning: A column-vector y was passed when a 1d array was expected. Please change the shape of y to (n_samples, ), for example using ravel().\n",
      "  if __name__ == '__main__':\n",
      "C:\\Users\\artjom\\Miniconda3\\envs\\env36\\lib\\site-packages\\sklearn\\ensemble\\forest.py:248: FutureWarning: The default value of n_estimators will change from 10 in version 0.20 to 100 in 0.22.\n",
      "  \"10 in version 0.20 to 100 in 0.22.\", FutureWarning)\n",
      "C:\\Users\\artjom\\Miniconda3\\envs\\env36\\lib\\site-packages\\ipykernel_launcher.py:10: DataConversionWarning: A column-vector y was passed when a 1d array was expected. Please change the shape of y to (n_samples,), for example using ravel().\n",
      "  # Remove the CWD from sys.path while we load stuff.\n",
      "C:\\Users\\artjom\\Miniconda3\\envs\\env36\\lib\\site-packages\\sklearn\\linear_model\\logistic.py:432: FutureWarning: Default solver will be changed to 'lbfgs' in 0.22. Specify a solver to silence this warning.\n",
      "  FutureWarning)\n",
      "C:\\Users\\artjom\\Miniconda3\\envs\\env36\\lib\\site-packages\\sklearn\\utils\\validation.py:752: DataConversionWarning: A column-vector y was passed when a 1d array was expected. Please change the shape of y to (n_samples, ), for example using ravel().\n",
      "  y = column_or_1d(y, warn=True)\n",
      "C:\\Users\\artjom\\Miniconda3\\envs\\env36\\lib\\site-packages\\sklearn\\utils\\validation.py:752: DataConversionWarning: A column-vector y was passed when a 1d array was expected. Please change the shape of y to (n_samples, ), for example using ravel().\n",
      "  y = column_or_1d(y, warn=True)\n",
      "C:\\Users\\artjom\\Miniconda3\\envs\\env36\\lib\\site-packages\\sklearn\\neural_network\\multilayer_perceptron.py:916: DataConversionWarning: A column-vector y was passed when a 1d array was expected. Please change the shape of y to (n_samples, ), for example using ravel().\n",
      "  y = column_or_1d(y, warn=True)\n"
     ]
    },
    {
     "data": {
      "text/plain": [
       "MLPClassifier(activation='relu', alpha=0.0001, batch_size='auto', beta_1=0.9,\n",
       "       beta_2=0.999, early_stopping=False, epsilon=1e-08,\n",
       "       hidden_layer_sizes=(100,), learning_rate='constant',\n",
       "       learning_rate_init=0.001, max_iter=200, momentum=0.9,\n",
       "       n_iter_no_change=10, nesterovs_momentum=True, power_t=0.5,\n",
       "       random_state=None, shuffle=True, solver='adam', tol=0.0001,\n",
       "       validation_fraction=0.1, verbose=False, warm_start=False)"
      ]
     },
     "execution_count": 17,
     "metadata": {},
     "output_type": "execute_result"
    }
   ],
   "source": [
    "model1 = DecisionTreeClassifier()\n",
    "model2 = KNeighborsClassifier()\n",
    "model3 = RandomForestClassifier()\n",
    "model4 = LogisticRegression()\n",
    "model5 = GradientBoostingClassifier(learning_rate=0.7)\n",
    "model6 = MLPClassifier()\n",
    "\n",
    "model1.fit(train[features],train[['category']])\n",
    "model2.fit(train[features],train[['category']])\n",
    "model3.fit(train[features],train[['category']])\n",
    "model4.fit(train[features],train[['category']])\n",
    "model5.fit(train[features],train[['category']])\n",
    "model6.fit(train[features],train[['category']])"
   ]
  },
  {
   "cell_type": "code",
   "execution_count": 18,
   "metadata": {},
   "outputs": [
    {
     "name": "stdout",
     "output_type": "stream",
     "text": [
      "Accuracy of DT is 58.87%\n",
      "Accuracy of KNN is 58.62%\n",
      "Accuracy of RF is 59.68%\n",
      "Accuracy of Logit is 54.25%\n",
      "Accuracy of GDM is 64.38%\n",
      "Accuracy of MLP is 52.44%\n"
     ]
    }
   ],
   "source": [
    "print(f\"Accuracy of DT is {model1.score(test[features],test[['category']])*100:.2f}%\")\n",
    "print(f\"Accuracy of KNN is {model2.score(test[features],test[['category']])*100:.2f}%\")\n",
    "print(f\"Accuracy of RF is {model3.score(test[features],test[['category']])*100:.2f}%\")\n",
    "print(f\"Accuracy of Logit is {model4.score(test[features],test[['category']])*100:.2f}%\")\n",
    "print(f\"Accuracy of GDM is {model5.score(test[features],test[['category']])*100:.2f}%\")\n",
    "print(f\"Accuracy of MLP is {model6.score(test[features],test[['category']])*100:.2f}%\")"
   ]
  },
  {
   "cell_type": "markdown",
   "metadata": {},
   "source": [
    "### Meta-model\n",
    "Lets create meta-model"
   ]
  },
  {
   "cell_type": "code",
   "execution_count": 19,
   "metadata": {},
   "outputs": [
    {
     "name": "stderr",
     "output_type": "stream",
     "text": [
      "C:\\Users\\artjom\\Miniconda3\\envs\\env36\\lib\\site-packages\\sklearn\\model_selection\\_split.py:2069: FutureWarning: From version 0.21, test_size will always complement train_size unless both are specified.\n",
      "  FutureWarning)\n"
     ]
    }
   ],
   "source": [
    "train, remaining = train_test_split(data, random_state = 111, train_size = 0.5) \n",
    "val, test = train_test_split(remaining, random_state = 111, test_size = 0.4) "
   ]
  },
  {
   "cell_type": "code",
   "execution_count": 20,
   "metadata": {},
   "outputs": [
    {
     "name": "stdout",
     "output_type": "stream",
     "text": [
      "(10126, 10) (6075, 10) (4051, 10)\n"
     ]
    }
   ],
   "source": [
    "print(train.shape,val.shape,test.shape)"
   ]
  },
  {
   "cell_type": "code",
   "execution_count": 21,
   "metadata": {},
   "outputs": [
    {
     "name": "stderr",
     "output_type": "stream",
     "text": [
      "C:\\Users\\artjom\\Miniconda3\\envs\\env36\\lib\\site-packages\\ipykernel_launcher.py:5: DataConversionWarning: A column-vector y was passed when a 1d array was expected. Please change the shape of y to (n_samples, ), for example using ravel().\n",
      "  \"\"\"\n",
      "C:\\Users\\artjom\\Miniconda3\\envs\\env36\\lib\\site-packages\\sklearn\\ensemble\\forest.py:248: FutureWarning: The default value of n_estimators will change from 10 in version 0.20 to 100 in 0.22.\n",
      "  \"10 in version 0.20 to 100 in 0.22.\", FutureWarning)\n",
      "C:\\Users\\artjom\\Miniconda3\\envs\\env36\\lib\\site-packages\\ipykernel_launcher.py:6: DataConversionWarning: A column-vector y was passed when a 1d array was expected. Please change the shape of y to (n_samples,), for example using ravel().\n",
      "  \n",
      "C:\\Users\\artjom\\Miniconda3\\envs\\env36\\lib\\site-packages\\sklearn\\utils\\validation.py:752: DataConversionWarning: A column-vector y was passed when a 1d array was expected. Please change the shape of y to (n_samples, ), for example using ravel().\n",
      "  y = column_or_1d(y, warn=True)\n"
     ]
    },
    {
     "data": {
      "text/plain": [
       "GradientBoostingClassifier(criterion='friedman_mse', init=None,\n",
       "              learning_rate=0.7, loss='deviance', max_depth=3,\n",
       "              max_features=None, max_leaf_nodes=None,\n",
       "              min_impurity_decrease=0.0, min_impurity_split=None,\n",
       "              min_samples_leaf=1, min_samples_split=2,\n",
       "              min_weight_fraction_leaf=0.0, n_estimators=100,\n",
       "              n_iter_no_change=None, presort='auto', random_state=None,\n",
       "              subsample=1.0, tol=0.0001, validation_fraction=0.1,\n",
       "              verbose=0, warm_start=False)"
      ]
     },
     "execution_count": 21,
     "metadata": {},
     "output_type": "execute_result"
    }
   ],
   "source": [
    "modela = KNeighborsClassifier()\n",
    "modelb = RandomForestClassifier()\n",
    "modelc = GradientBoostingClassifier(learning_rate=0.7)\n",
    "\n",
    "modela.fit(train[features],train[['category']])\n",
    "modelb.fit(train[features],train[['category']])\n",
    "modelc.fit(train[features],train[['category']])"
   ]
  },
  {
   "cell_type": "code",
   "execution_count": 22,
   "metadata": {
    "collapsed": true
   },
   "outputs": [],
   "source": [
    "proba=modela.predict_proba(val[features])\n",
    "probb=modelb.predict_proba(val[features])\n",
    "probc=modelc.predict_proba(val[features])\n",
    "train_blending = np.concatenate([proba,probb,probc],axis = 1)"
   ]
  },
  {
   "cell_type": "code",
   "execution_count": 23,
   "metadata": {
    "collapsed": true
   },
   "outputs": [],
   "source": [
    "proba_test=modela.predict_proba(test[features]) \n",
    "probb_test=modelb.predict_proba(test[features])\n",
    "probc_test=modelc.predict_proba(test[features])\n",
    "test_blending = np.concatenate([proba_test,probb_test,probc_test],axis = 1)"
   ]
  },
  {
   "cell_type": "code",
   "execution_count": 24,
   "metadata": {},
   "outputs": [
    {
     "name": "stderr",
     "output_type": "stream",
     "text": [
      "C:\\Users\\artjom\\Miniconda3\\envs\\env36\\lib\\site-packages\\sklearn\\svm\\base.py:196: FutureWarning: The default value of gamma will change from 'auto' to 'scale' in version 0.22 to account better for unscaled features. Set gamma explicitly to 'auto' or 'scale' to avoid this warning.\n",
      "  \"avoid this warning.\", FutureWarning)\n"
     ]
    },
    {
     "data": {
      "text/plain": [
       "SVC(C=1.0, cache_size=200, class_weight=None, coef0=0.0,\n",
       "  decision_function_shape='ovr', degree=3, gamma='auto_deprecated',\n",
       "  kernel='rbf', max_iter=-1, probability=False, random_state=None,\n",
       "  shrinking=True, tol=0.001, verbose=False)"
      ]
     },
     "execution_count": 24,
     "metadata": {},
     "output_type": "execute_result"
    }
   ],
   "source": [
    "blending_model = SVC()\n",
    "blending_model.fit(train_blending, val['category'])"
   ]
  },
  {
   "cell_type": "code",
   "execution_count": 25,
   "metadata": {},
   "outputs": [
    {
     "name": "stdout",
     "output_type": "stream",
     "text": [
      "Accuracy of blending ensemble 63.76%\n"
     ]
    }
   ],
   "source": [
    "print(f\"Accuracy of blending ensemble {blending_model.score(test_blending, test['category'])*100:.2f}%\")"
   ]
  },
  {
   "cell_type": "code",
   "execution_count": 26,
   "metadata": {},
   "outputs": [
    {
     "name": "stdout",
     "output_type": "stream",
     "text": [
      "              precision    recall  f1-score   support\n",
      "\n",
      "           0       0.65      0.67      0.66      2123\n",
      "           1       0.62      0.61      0.61      1928\n",
      "\n",
      "   micro avg       0.64      0.64      0.64      4051\n",
      "   macro avg       0.64      0.64      0.64      4051\n",
      "weighted avg       0.64      0.64      0.64      4051\n",
      "\n"
     ]
    }
   ],
   "source": [
    "print(classification_report(test['category'], blending_model.predict(test_blending)))"
   ]
  },
  {
   "cell_type": "code",
   "execution_count": null,
   "metadata": {
    "collapsed": true
   },
   "outputs": [],
   "source": []
  }
 ],
 "metadata": {
  "kernelspec": {
   "display_name": "Python (env36)",
   "language": "python",
   "name": "env36"
  },
  "language_info": {
   "codemirror_mode": {
    "name": "ipython",
    "version": 3
   },
   "file_extension": ".py",
   "mimetype": "text/x-python",
   "name": "python",
   "nbconvert_exporter": "python",
   "pygments_lexer": "ipython3",
   "version": "3.6.6"
  }
 },
 "nbformat": 4,
 "nbformat_minor": 2
}
